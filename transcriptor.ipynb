{
  "nbformat": 4,
  "nbformat_minor": 0,
  "metadata": {
    "colab": {
      "provenance": [],
      "authorship_tag": "ABX9TyMsiCdZLbXmbY+UY5dubS8K",
      "include_colab_link": true
    },
    "kernelspec": {
      "name": "python3",
      "display_name": "Python 3"
    },
    "language_info": {
      "name": "python"
    }
  },
  "cells": [
    {
      "cell_type": "markdown",
      "metadata": {
        "id": "view-in-github",
        "colab_type": "text"
      },
      "source": [
        "<a href=\"https://colab.research.google.com/github/charlstown/transcript/blob/main/transcriptor.ipynb\" target=\"_parent\"><img src=\"https://colab.research.google.com/assets/colab-badge.svg\" alt=\"Open In Colab\"/></a>"
      ]
    },
    {
      "cell_type": "markdown",
      "source": [
        "# TRASNCRIPTOR 💬\n",
        "\n",
        "Programa para extraer transcripciones de videos de Youtube.\n",
        "\n",
        "---"
      ],
      "metadata": {
        "id": "_-7DunCVN7gi"
      }
    },
    {
      "cell_type": "code",
      "source": [
        "# @title Ejecuta la carga de librerías (Ejecutar una vez)\n",
        "# Load libraries\n",
        "%%capture\n",
        "!pip install -U openai-whisper yt-dlp textwrap\n",
        "import whisper\n",
        "import os\n",
        "import subprocess\n",
        "import textwrap"
      ],
      "metadata": {
        "collapsed": true,
        "cellView": "form",
        "id": "WaxIR_069TXW"
      },
      "execution_count": 32,
      "outputs": []
    },
    {
      "cell_type": "code",
      "source": [
        "# @title Genera las funciones de procesamiento (Ejecutar una vez)\n",
        "# Functions\n",
        "# Function to download audio from a YouTube video\n",
        "def download_audio(youtube_url, output_path=\"audio.mp3\"):\n",
        "    # Delete the previous file if it exists\n",
        "    if os.path.exists(output_path):\n",
        "        os.remove(output_path)\n",
        "        print(f\"Deleted previous file: {output_path}\")\n",
        "\n",
        "    # Download the new audio\n",
        "    command = [\n",
        "        \"yt-dlp\",\n",
        "        \"--extract-audio\",\n",
        "        \"--audio-format\", \"mp3\",\n",
        "        \"--output\", output_path,\n",
        "        youtube_url\n",
        "    ]\n",
        "    subprocess.run(command, check=True)\n",
        "    return output_path\n",
        "\n",
        "# Function to transcribe using Whisper with a specified language\n",
        "def transcribe_audio(audio_path, language=\"en\"):\n",
        "    model = whisper.load_model(\"base\")  # Choose 'tiny', 'base', 'small', 'medium', 'large'\n",
        "    result = model.transcribe(audio_path, language=language)\n",
        "    return result[\"text\"]"
      ],
      "metadata": {
        "cellView": "form",
        "id": "0gUzWEVI9nRt"
      },
      "execution_count": 25,
      "outputs": []
    },
    {
      "cell_type": "markdown",
      "source": [
        "---\n",
        "\n",
        "</br>\n",
        "\n",
        "⬇️⬇️⬇️ Repetir ejecución tantas veces como links tengas que procesar. ⬇️⬇️⬇️"
      ],
      "metadata": {
        "id": "-HLSttA0PmzM"
      }
    },
    {
      "cell_type": "code",
      "execution_count": 41,
      "metadata": {
        "cellView": "form",
        "id": "1KOeB1Wa52J3"
      },
      "outputs": [],
      "source": [
        "# @title ✏️ 1. Configura Transcriptor\n",
        "youtube_link = \"https://www.youtube.com/watch?v=AorfDpCXj3U\" # @param {\"type\":\"string\",\"placeholder\":\"Introduce la url del video que deseas transcribir\"}\n",
        "idioma = \"en\" # @param [\"en\",\"es\",\"fr\",\"de\",\"ja\",\"pt\"]"
      ]
    },
    {
      "cell_type": "code",
      "source": [
        "# @title ⚙️ 2. Ejecuta transcriptor {\"vertical-output\":true}\n",
        "audio_file = download_audio(youtube_link)\n",
        "transcription = transcribe_audio(audio_file, idioma)"
      ],
      "metadata": {
        "colab": {
          "base_uri": "https://localhost:8080/"
        },
        "cellView": "form",
        "id": "APIUH-hs9wEi",
        "outputId": "63b1a027-6bdc-4fb4-ba37-42d1761a0504"
      },
      "execution_count": 42,
      "outputs": [
        {
          "output_type": "stream",
          "name": "stdout",
          "text": [
            "Deleted previous file: audio.mp3\n"
          ]
        },
        {
          "output_type": "stream",
          "name": "stderr",
          "text": [
            "/usr/local/lib/python3.11/dist-packages/whisper/__init__.py:150: FutureWarning: You are using `torch.load` with `weights_only=False` (the current default value), which uses the default pickle module implicitly. It is possible to construct malicious pickle data which will execute arbitrary code during unpickling (See https://github.com/pytorch/pytorch/blob/main/SECURITY.md#untrusted-models for more details). In a future release, the default value for `weights_only` will be flipped to `True`. This limits the functions that could be executed during unpickling. Arbitrary objects will no longer be allowed to be loaded via this mode unless they are explicitly allowlisted by the user via `torch.serialization.add_safe_globals`. We recommend you start setting `weights_only=True` for any use case where you don't have full control of the loaded file. Please open an issue on GitHub for any issues related to this experimental feature.\n",
            "  checkpoint = torch.load(fp, map_location=device)\n",
            "/usr/local/lib/python3.11/dist-packages/whisper/transcribe.py:126: UserWarning: FP16 is not supported on CPU; using FP32 instead\n",
            "  warnings.warn(\"FP16 is not supported on CPU; using FP32 instead\")\n"
          ]
        }
      ]
    },
    {
      "cell_type": "code",
      "source": [
        "# @title 🖨️ 3. Mostrar transcript\n",
        "# Wrap text to 80 characters per line (adjust width as needed)\n",
        "wrapped_text = textwrap.fill(transcription, width=80)\n",
        "\n",
        "# Print nicely formatted text\n",
        "print(\"\\nTranscription:\\n\", wrapped_text)\n",
        "\n",
        "# Save wrapped text to file\n",
        "with open(\"transcription.txt\", \"w\", encoding=\"utf-8\") as f:\n",
        "    f.write(wrapped_text)"
      ],
      "metadata": {
        "colab": {
          "base_uri": "https://localhost:8080/"
        },
        "cellView": "form",
        "id": "DQXbRAY1_RFP",
        "outputId": "64fab9d6-8394-4a2b-f21f-42d4d0393cff"
      },
      "execution_count": 43,
      "outputs": [
        {
          "output_type": "stream",
          "name": "stdout",
          "text": [
            "\n",
            "Transcription:\n",
            "  So how have the two of you been? You can talk. It's been a little rough. I will\n",
            "say after that session that I like sucked really well. Sounds nice. I'm\n",
            "trusting. Yeah, I feel like we pulled on something and did the whole sweater.\n",
            "Yeah. Because you know what it was. What was the thread? I don't think I was\n",
            "recognizing how frustrated I was with the relationship. Even just with myself, I\n",
            "feel honestly like I've lied to myself for most like most always. And I feel\n",
            "like that thread was like this thread of truth. And then like the whole thing\n",
            "just like. Yeah. Any thoughts? So I think those realizations, well, I don't want\n",
            "to be this quick. We're breaking up essentially or trying to figure out how to\n",
            "decouple in a ethical way. She asked me if I felt like I was in love with her. I\n",
            "said, well, I don't know. I don't know. I haven't necessarily felt that. We\n",
            "haven't felt that in a while. I guess what Nadine also said is she's not sure if\n",
            "she's polyamorous anymore. She's not sure if she can manage being. I feel very\n",
            "confused. So I was like, okay, we our entire relationship has revolved around\n",
            "non-managamy and polyamory. And I feel that you have used polyamory's a vehicle\n",
            "to leave me. And I'm mad. I'm really mad. I'm disappointed. I don't know if I\n",
            "need to move out. And I don't have enough to try to find a new place to live and\n",
            "maintain a rent. So I don't know if we should like push through it. And I'm team\n",
            "pusher it personally. Push through it means I just feel like we're living under\n",
            "the same roof until. The lease is up. So it's like one option is to stay and the\n",
            "other option is to like to figure out how to cancel the lease and then each move\n",
            "out. And my lot I have like zero. I'm like fighting my life aside from this is\n",
            "in shambles. I need to like get my situation together. What's happening with\n",
            "your life? I have no fighting it. Everything everything got fucked up. Tell me.\n",
            "Um. So simultaneously told this. I um. I always work to my family with my family\n",
            "and my dad and all that. What kind of work is that? Um. Like cars and stuff like\n",
            "that. But moving to New York, I stopped working for my family. This is also when\n",
            "it came out. And then. Did that totally unravel? My family dynamic. And then.\n",
            "Um. My dad is just like gotten totally. Uh, yeah, no, he doesn't at this point\n",
            "doesn't have relationship with me and. He doesn't want to have a relationship\n",
            "with you since you came out. Just for him, it's all together because like I\n",
            "moved here, then it became gay. Because I just became gay. Right. So in his\n",
            "eyes, I'm not working. I'm doing drugs. I've literally lost my mind. Um, and I'm\n",
            "with a woman and. So I'm like trying to like put pieces back together while this\n",
            "is all happening. It sounds like a crisis. Oh, big time. Yeah. Yeah. Yeah, so\n",
            "our last conversation was he didn't want to have a relationship. He was like,\n",
            "nine day different. How so? Oh, he was like, he's like, this weed is a cat. He\n",
            "was like, a little special to him. Like, a little bit of a water, yeah, and like\n",
            "if I walked into the room, it was all Facelid up. Everyone knew like, any\n",
            "cauliflower. Now it's like, as if that like never was even. Real or anything.\n",
            "Because it feels not real. Because the minute I veer from the course. I mean,\n",
            "it's conditional. The most transactional and conditional love ever. Yeah. Very\n",
            "confusing. And you're describing a relationship in which, first of all, there's\n",
            "like a great deal of dependence. independence that has been fostered and in a\n",
            "way needing to negate yourself to keep that going and negate your ability to\n",
            "stand on your own feet. It's like choosing between yourself and the like, the\n",
            "love of your father.\n"
          ]
        }
      ]
    }
  ]
}